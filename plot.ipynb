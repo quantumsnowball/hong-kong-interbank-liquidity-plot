{
 "cells": [
  {
   "attachments": {},
   "cell_type": "markdown",
   "metadata": {},
   "source": [
    "# Hong Kong Interbank Balance Plot"
   ]
  },
  {
   "attachments": {},
   "cell_type": "markdown",
   "metadata": {},
   "source": [
    "#### Imports"
   ]
  },
  {
   "cell_type": "code",
   "execution_count": 1,
   "metadata": {},
   "outputs": [],
   "source": [
    "import pandas as pd\n",
    "import requests\n",
    "from requests.adapters import Retry, HTTPAdapter\n",
    "import matplotlib.pyplot as plt\n",
    "from bs4 import BeautifulSoup\n",
    "import json\n",
    "import sqlite3\n"
   ]
  },
  {
   "attachments": {},
   "cell_type": "markdown",
   "metadata": {},
   "source": [
    "#### Globals"
   ]
  },
  {
   "cell_type": "code",
   "execution_count": 2,
   "metadata": {},
   "outputs": [],
   "source": [
    "START = '2018-01-01'\n",
    "END = str(pd.Timestamp.today().date())\n"
   ]
  },
  {
   "attachments": {},
   "cell_type": "markdown",
   "metadata": {},
   "source": [
    "#### Utility Functions"
   ]
  },
  {
   "cell_type": "code",
   "execution_count": 3,
   "metadata": {},
   "outputs": [],
   "source": [
    "def url(Y, M, D):\n",
    "    return (\n",
    "        'https://www.hkma.gov.hk/eng/'\n",
    "        'data-publications-and-research/data-and-statistics/'\n",
    "        f'daily-monetary-statistics/{Y}/{M}/ms-{Y}{M}{D}/')\n"
   ]
  },
  {
   "cell_type": "code",
   "execution_count": 4,
   "metadata": {},
   "outputs": [],
   "source": [
    "def interbank_balance(date):\n",
    "    try:\n",
    "        Y, M, D = date.split('-')\n",
    "        sess = requests.Session()\n",
    "        sess.mount('https://', HTTPAdapter(max_retries=Retry(total=50, backoff_factor=0.1)))\n",
    "        resp = sess.get(url(Y, M, D))\n",
    "        print(f'fetching {date}')\n",
    "        soup = BeautifulSoup(resp.content)\n",
    "        table = soup.select_one(\n",
    "            '#interbank-liquidity + div + div div.collapsibles-accordion-content div.template-table table')\n",
    "        trs = table.select('tr')\n",
    "        td = trs[1].select('td')[1]\n",
    "        clean_text = td.text.replace('mn', '').replace(\n",
    "            '百萬', '').replace(',', '').strip()\n",
    "        return float(clean_text)\n",
    "    except (AttributeError, ):\n",
    "        return None\n"
   ]
  },
  {
   "attachments": {},
   "cell_type": "markdown",
   "metadata": {},
   "source": [
    "#### Tests"
   ]
  },
  {
   "cell_type": "code",
   "execution_count": 5,
   "metadata": {},
   "outputs": [
    {
     "name": "stdout",
     "output_type": "stream",
     "text": [
      "fetching 2022-06-01\n",
      "2022-06-01 319990.0\n",
      "fetching 2022-08-01\n",
      "2022-08-01 165158.0\n"
     ]
    }
   ],
   "source": [
    "for date in ['2022-06-01', '2022-08-01']:\n",
    "    ib = interbank_balance(date)\n",
    "    print(date, ib)\n"
   ]
  },
  {
   "attachments": {},
   "cell_type": "markdown",
   "metadata": {},
   "source": [
    "#### Fetch\n",
    "\n",
    "If connection is banned, wait for a while and run this cell again. Program will only re-download failed fetch."
   ]
  },
  {
   "cell_type": "code",
   "execution_count": 6,
   "metadata": {},
   "outputs": [
    {
     "name": "stdout",
     "output_type": "stream",
     "text": [
      "fetching 2024-11-14\n",
      "fetching 2024-11-15\n",
      "fetching 2024-11-16\n",
      "fetching 2024-11-17\n",
      "fetching 2024-11-18\n",
      "fetching 2024-11-19\n",
      "fetching 2024-11-20\n",
      "fetching 2024-11-21\n",
      "fetching 2024-11-22\n",
      "fetching 2024-11-23\n",
      "fetching 2024-11-24\n",
      "fetching 2024-11-25\n",
      "fetching 2024-11-26\n",
      "fetching 2024-11-27\n",
      "fetching 2024-11-28\n",
      "fetching 2024-11-29\n",
      "fetching 2024-11-30\n",
      "fetching 2024-12-01\n",
      "fetching 2024-12-02\n",
      "fetching 2024-12-03\n",
      "fetching 2024-12-04\n",
      "fetching 2024-12-05\n",
      "fetching 2024-12-06\n",
      "fetching 2024-12-07\n",
      "fetching 2024-12-08\n",
      "fetching 2024-12-09\n",
      "fetching 2024-12-10\n",
      "fetching 2024-12-11\n",
      "fetching 2024-12-12\n",
      "fetching 2024-12-13\n",
      "fetching 2024-12-14\n",
      "fetching 2024-12-15\n",
      "fetching 2024-12-16\n",
      "fetching 2024-12-17\n",
      "fetching 2024-12-18\n",
      "fetching 2024-12-19\n",
      "fetching 2024-12-20\n",
      "fetching 2024-12-21\n",
      "fetching 2024-12-22\n",
      "fetching 2024-12-23\n",
      "fetching 2024-12-24\n",
      "fetching 2024-12-25\n",
      "fetching 2024-12-26\n",
      "fetching 2024-12-27\n",
      "fetching 2024-12-28\n",
      "fetching 2024-12-29\n",
      "fetching 2024-12-30\n",
      "fetching 2024-12-31\n",
      "fetching 2025-01-01\n",
      "fetching 2025-01-02\n",
      "fetching 2025-01-03\n",
      "fetching 2025-01-04\n",
      "fetching 2025-01-05\n",
      "fetching 2025-01-06\n",
      "fetching 2025-01-07\n",
      "fetching 2025-01-08\n",
      "fetching 2025-01-09\n",
      "fetching 2025-01-10\n",
      "fetching 2025-01-11\n",
      "fetching 2025-01-12\n",
      "fetching 2025-01-13\n",
      "fetching 2025-01-14\n",
      "fetching 2025-01-15\n",
      "fetching 2025-01-16\n",
      "fetching 2025-01-17\n",
      "fetching 2025-01-18\n",
      "fetching 2025-01-19\n",
      "fetching 2025-01-20\n",
      "fetching 2025-01-21\n",
      "fetching 2025-01-22\n",
      "fetching 2025-01-23\n",
      "fetching 2025-01-24\n",
      "fetching 2025-01-25\n",
      "fetching 2025-01-26\n",
      "fetching 2025-01-27\n",
      "fetching 2025-01-28\n",
      "fetching 2025-01-29\n",
      "fetching 2025-01-30\n",
      "fetching 2025-01-31\n",
      "fetching 2025-02-01\n",
      "fetching 2025-02-02\n",
      "fetching 2025-02-03\n",
      "fetching 2025-02-04\n",
      "fetching 2025-02-05\n",
      "fetching 2025-02-06\n",
      "fetching 2025-02-07\n",
      "fetching 2025-02-08\n",
      "fetching 2025-02-09\n",
      "fetching 2025-02-10\n",
      "fetching 2025-02-11\n",
      "fetching 2025-02-12\n",
      "fetching 2025-02-13\n",
      "fetching 2025-02-14\n",
      "fetching 2025-02-15\n",
      "fetching 2025-02-16\n",
      "fetching 2025-02-17\n",
      "fetching 2025-02-18\n",
      "fetching 2025-02-19\n",
      "fetching 2025-02-20\n",
      "fetching 2025-02-21\n",
      "fetching 2025-02-22\n",
      "fetching 2025-02-23\n",
      "fetching 2025-02-24\n",
      "fetching 2025-02-25\n",
      "fetching 2025-02-26\n",
      "fetching 2025-02-27\n",
      "fetching 2025-02-28\n",
      "fetching 2025-03-01\n",
      "fetching 2025-03-02\n",
      "fetching 2025-03-03\n",
      "fetching 2025-03-04\n",
      "fetching 2025-03-05\n",
      "fetching 2025-03-06\n",
      "fetching 2025-03-07\n",
      "fetching 2025-03-08\n",
      "fetching 2025-03-09\n",
      "fetching 2025-03-10\n",
      "fetching 2025-03-11\n",
      "fetching 2025-03-12\n",
      "fetching 2025-03-13\n",
      "fetching 2025-03-14\n",
      "fetching 2025-03-15\n",
      "fetching 2025-03-16\n",
      "fetching 2025-03-17\n",
      "fetching 2025-03-18\n",
      "fetching 2025-03-19\n",
      "fetching 2025-03-20\n",
      "fetching 2025-03-21\n",
      "fetching 2025-03-22\n",
      "fetching 2025-03-23\n",
      "fetching 2025-03-24\n",
      "fetching 2025-03-25\n",
      "fetching 2025-03-26\n",
      "fetching 2025-03-27\n",
      "fetching 2025-03-28\n",
      "fetching 2025-03-29\n",
      "fetching 2025-03-30\n",
      "fetching 2025-03-31\n",
      "fetching 2025-04-01\n",
      "fetching 2025-04-02\n",
      "fetching 2025-04-03\n",
      "fetching 2025-04-04\n",
      "fetching 2025-04-05\n",
      "fetching 2025-04-06\n",
      "fetching 2025-04-07\n",
      "fetching 2025-04-08\n",
      "fetching 2025-04-09\n",
      "fetching 2025-04-10\n",
      "fetching 2025-04-11\n",
      "fetching 2025-04-12\n",
      "fetching 2025-04-13\n",
      "fetching 2025-04-14\n",
      "fetching 2025-04-15\n",
      "fetching 2025-04-16\n",
      "fetching 2025-04-17\n",
      "fetching 2025-04-18\n",
      "fetching 2025-04-19\n",
      "fetching 2025-04-20\n",
      "fetching 2025-04-21\n",
      "fetching 2025-04-22\n",
      "fetching 2025-04-23\n"
     ]
    }
   ],
   "source": [
    "dates = [str(d.date())\n",
    "         for d in pd.date_range(START, END)]\n",
    "with sqlite3.connect('data.sqlite') as conn:\n",
    "    cursor = conn.cursor()\n",
    "    for d in dates:\n",
    "        cursor.execute(f\"SELECT * from interbank where Date='{d}'\")\n",
    "        rows = cursor.fetchall()\n",
    "        if len(rows) == 0:\n",
    "            val = interbank_balance(d)\n",
    "            val = val if val is not None else 'NULL'\n",
    "            cursor.execute(f'INSERT OR REPLACE INTO interbank (Date, Balance) VALUES (\"{d}\", {val})')\n",
    "    conn.commit()"
   ]
  },
  {
   "attachments": {},
   "cell_type": "markdown",
   "metadata": {},
   "source": [
    "#### Plot"
   ]
  },
  {
   "cell_type": "code",
   "execution_count": 7,
   "metadata": {},
   "outputs": [
    {
     "data": {
      "text/plain": [
       "<Axes: title={'center': 'Hong Kong Interbank Balalnce'}, ylabel='million HKD'>"
      ]
     },
     "execution_count": 7,
     "metadata": {},
     "output_type": "execute_result"
    },
    {
     "data": {
      "image/png": "[encoded data removed]",
      "text/plain": [
       "<Figure size 1300x900 with 1 Axes>"
      ]
     },
     "metadata": {},
     "output_type": "display_data"
    }
   ],
   "source": [
    "with sqlite3.connect('data.sqlite') as conn:\n",
    "    cursor = conn.cursor()\n",
    "    cursor.execute('SELECT * from interbank')\n",
    "    data = cursor.fetchall()\n",
    "\n",
    "clean = {d: v for d, v in dict(data).items() if v}\n",
    "series = pd.Series(clean.values(),\n",
    "                   index=pd.to_datetime(list(clean.keys())),\n",
    "                   name='Hong Kong Interbank Balalnce').sort_index()\n",
    "fig, ax = plt.subplots(1, 1, figsize=(13, 9))\n",
    "series.plot(ax=ax, ylim=(0, None), title=series.name,\n",
    "            legend=series.name, ylabel='million HKD', lw=5)\n"
   ]
  },
  {
   "attachments": {},
   "cell_type": "markdown",
   "metadata": {},
   "source": [
    "#### Recent"
   ]
  },
  {
   "cell_type": "code",
   "execution_count": 8,
   "metadata": {},
   "outputs": [
    {
     "data": {
      "text/plain": [
       "2025-03-21    44595\n",
       "2025-03-24    44595\n",
       "2025-03-25    44595\n",
       "2025-03-26    45540\n",
       "2025-03-27    44621\n",
       "2025-03-28    44621\n",
       "2025-03-31    44621\n",
       "2025-04-01    44621\n",
       "2025-04-02    44694\n",
       "2025-04-03    44689\n",
       "2025-04-07    44689\n",
       "2025-04-08    44709\n",
       "2025-04-09    44783\n",
       "2025-04-10    44783\n",
       "2025-04-11    45476\n",
       "2025-04-14    44783\n",
       "2025-04-15    44783\n",
       "2025-04-16    44674\n",
       "2025-04-17    44674\n",
       "2025-04-22    44734\n",
       "Name: Hong Kong Interbank Balalnce, dtype: int64"
      ]
     },
     "execution_count": 8,
     "metadata": {},
     "output_type": "execute_result"
    }
   ],
   "source": [
    "series.sort_index().iloc[-20:]"
   ]
  }
 ],
 "metadata": {
  "kernelspec": {
   "display_name": "python",
   "language": "python",
   "name": "python3"
  },
  "language_info": {
   "codemirror_mode": {
    "name": "ipython",
    "version": 3
   },
   "file_extension": ".py",
   "mimetype": "text/x-python",
   "name": "python",
   "nbconvert_exporter": "python",
   "pygments_lexer": "ipython3",
   "version": "3.13.3"
  },
  "orig_nbformat": 4
 },
 "nbformat": 4,
 "nbformat_minor": 2
}
