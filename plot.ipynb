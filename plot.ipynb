{
 "cells": [
  {
   "attachments": {},
   "cell_type": "markdown",
   "metadata": {},
   "source": [
    "# Hong Kong Interbank Balance Plot"
   ]
  },
  {
   "attachments": {},
   "cell_type": "markdown",
   "metadata": {},
   "source": [
    "#### Imports"
   ]
  },
  {
   "cell_type": "code",
   "execution_count": 1,
   "metadata": {},
   "outputs": [],
   "source": [
    "import pandas as pd\n",
    "import requests\n",
    "from requests.adapters import Retry, HTTPAdapter\n",
    "import matplotlib.pyplot as plt\n",
    "from bs4 import BeautifulSoup\n",
    "import json\n"
   ]
  },
  {
   "attachments": {},
   "cell_type": "markdown",
   "metadata": {},
   "source": [
    "#### Globals"
   ]
  },
  {
   "cell_type": "code",
   "execution_count": 2,
   "metadata": {},
   "outputs": [],
   "source": [
    "START = '2018-01-01'\n",
    "END = str(pd.Timestamp.today().date())\n"
   ]
  },
  {
   "attachments": {},
   "cell_type": "markdown",
   "metadata": {},
   "source": [
    "#### Utility Functions"
   ]
  },
  {
   "cell_type": "code",
   "execution_count": 3,
   "metadata": {},
   "outputs": [],
   "source": [
    "def url(Y, M, D):\n",
    "    return (\n",
    "        'https://www.hkma.gov.hk/eng/'\n",
    "        'data-publications-and-research/data-and-statistics/'\n",
    "        f'daily-monetary-statistics/{Y}/{M}/ms-{Y}{M}{D}/')\n"
   ]
  },
  {
   "cell_type": "code",
   "execution_count": 4,
   "metadata": {},
   "outputs": [],
   "source": [
    "def interbank_balance(date):\n",
    "    try:\n",
    "        Y, M, D = date.split('-')\n",
    "        sess = requests.Session()\n",
    "        sess.mount('https://', HTTPAdapter(max_retries=Retry(total=50, backoff_factor=0.1)))\n",
    "        resp = sess.get(url(Y, M, D))\n",
    "        print(f'fetching {date}')\n",
    "        soup = BeautifulSoup(resp.content)\n",
    "        table = soup.select_one(\n",
    "            '#interbank-liquidity + div + div div.collapsibles-accordion-content div.template-table table')\n",
    "        trs = table.select('tr')\n",
    "        td = trs[1].select('td')[1]\n",
    "        clean_text = td.text.replace('mn', '').replace(\n",
    "            '百萬', '').replace(',', '').strip()\n",
    "        return float(clean_text)\n",
    "    except (AttributeError, ):\n",
    "        return None\n"
   ]
  },
  {
   "attachments": {},
   "cell_type": "markdown",
   "metadata": {},
   "source": [
    "#### Tests"
   ]
  },
  {
   "cell_type": "code",
   "execution_count": 5,
   "metadata": {},
   "outputs": [
    {
     "name": "stdout",
     "output_type": "stream",
     "text": [
      "fetching 2022-06-01\n",
      "2022-06-01 319990.0\n",
      "fetching 2022-08-01\n",
      "2022-08-01 165158.0\n"
     ]
    }
   ],
   "source": [
    "for date in ['2022-06-01', '2022-08-01']:\n",
    "    ib = interbank_balance(date)\n",
    "    print(date, ib)\n"
   ]
  },
  {
   "attachments": {},
   "cell_type": "markdown",
   "metadata": {},
   "source": [
    "#### Fetch\n",
    "\n",
    "If connection is banned, wait for a while and run this cell again. Program will only re-download failed fetch."
   ]
  },
  {
   "cell_type": "code",
   "execution_count": 6,
   "metadata": {},
   "outputs": [
    {
     "name": "stdout",
     "output_type": "stream",
     "text": [
      "fetching 2023-04-15\n",
      "fetching 2023-04-16\n",
      "fetching 2023-04-17\n",
      "fetching 2023-04-18\n",
      "fetching 2023-04-19\n",
      "fetching 2023-04-20\n",
      "fetching 2023-04-21\n",
      "fetching 2023-04-22\n",
      "fetching 2023-04-23\n",
      "fetching 2023-04-24\n",
      "fetching 2023-04-25\n",
      "fetching 2023-04-26\n",
      "fetching 2023-04-27\n",
      "fetching 2023-04-28\n",
      "fetching 2023-04-29\n",
      "fetching 2023-04-30\n",
      "fetching 2023-05-01\n",
      "fetching 2023-05-02\n",
      "fetching 2023-05-03\n",
      "fetching 2023-05-04\n",
      "fetching 2023-05-05\n",
      "fetching 2023-05-06\n",
      "fetching 2023-05-07\n",
      "fetching 2023-05-08\n",
      "fetching 2023-05-09\n",
      "fetching 2023-05-10\n",
      "fetching 2023-05-11\n",
      "fetching 2023-05-12\n",
      "fetching 2023-05-13\n",
      "fetching 2023-05-14\n",
      "fetching 2023-05-15\n",
      "fetching 2023-05-16\n",
      "fetching 2023-05-17\n",
      "fetching 2023-05-18\n",
      "fetching 2023-05-19\n",
      "fetching 2023-05-20\n",
      "fetching 2023-05-21\n",
      "fetching 2023-05-22\n",
      "fetching 2023-05-23\n",
      "fetching 2023-05-24\n",
      "fetching 2023-05-25\n",
      "fetching 2023-05-26\n",
      "fetching 2023-05-27\n",
      "fetching 2023-05-28\n",
      "fetching 2023-05-29\n",
      "fetching 2023-05-30\n",
      "fetching 2023-05-31\n",
      "fetching 2023-06-01\n",
      "fetching 2023-06-02\n",
      "fetching 2023-06-03\n",
      "fetching 2023-06-04\n",
      "fetching 2023-06-05\n",
      "fetching 2023-06-06\n",
      "fetching 2023-06-07\n",
      "fetching 2023-06-08\n",
      "fetching 2023-06-09\n",
      "fetching 2023-06-10\n",
      "fetching 2023-06-11\n",
      "fetching 2023-06-12\n",
      "fetching 2023-06-13\n",
      "fetching 2023-06-14\n",
      "fetching 2023-06-15\n",
      "fetching 2023-06-16\n",
      "fetching 2023-06-17\n",
      "fetching 2023-06-18\n",
      "fetching 2023-06-19\n",
      "fetching 2023-06-20\n",
      "fetching 2023-06-21\n",
      "fetching 2023-06-22\n",
      "fetching 2023-06-23\n",
      "fetching 2023-06-24\n",
      "fetching 2023-06-25\n",
      "fetching 2023-06-26\n",
      "fetching 2023-06-27\n",
      "fetching 2023-06-28\n",
      "fetching 2023-06-29\n",
      "fetching 2023-06-30\n",
      "fetching 2023-07-01\n",
      "fetching 2023-07-02\n",
      "fetching 2023-07-03\n",
      "fetching 2023-07-04\n",
      "fetching 2023-07-05\n",
      "fetching 2023-07-06\n",
      "fetching 2023-07-07\n",
      "fetching 2023-07-08\n",
      "fetching 2023-07-09\n",
      "fetching 2023-07-10\n",
      "fetching 2023-07-11\n",
      "fetching 2023-07-12\n",
      "fetching 2023-07-13\n",
      "fetching 2023-07-14\n",
      "fetching 2023-07-15\n",
      "fetching 2023-07-16\n",
      "fetching 2023-07-17\n",
      "fetching 2023-07-18\n",
      "fetching 2023-07-19\n",
      "fetching 2023-07-20\n",
      "fetching 2023-07-21\n",
      "fetching 2023-07-22\n",
      "fetching 2023-07-23\n",
      "fetching 2023-07-24\n",
      "fetching 2023-07-25\n",
      "fetching 2023-07-26\n",
      "fetching 2023-07-27\n",
      "fetching 2023-07-28\n",
      "fetching 2023-07-29\n"
     ]
    }
   ],
   "source": [
    "dates = [str(d.date())\n",
    "         for d in pd.date_range(START, END)]\n",
    "for d in dates:\n",
    "    with open('cache.json', 'r') as fp:\n",
    "        data = json.load(fp)\n",
    "    try:\n",
    "        data[d]\n",
    "    except KeyError:\n",
    "        data[d] = interbank_balance(d)\n",
    "    with open('cache.json', 'w') as fp:\n",
    "        json.dump(data, fp, indent=2)\n"
   ]
  },
  {
   "attachments": {},
   "cell_type": "markdown",
   "metadata": {},
   "source": [
    "#### Plot"
   ]
  },
  {
   "cell_type": "code",
   "execution_count": 7,
   "metadata": {},
   "outputs": [
    {
     "data": {
      "text/plain": [
       "<Axes: title={'center': 'Hong Kong Interbank Balalnce'}, ylabel='million HKD'>"
      ]
     },
     "execution_count": 7,
     "metadata": {},
     "output_type": "execute_result"
    },
    {
     "data": {
      "image/png": "[encoded data removed]",
      "text/plain": [
       "<Figure size 1300x900 with 1 Axes>"
      ]
     },
     "metadata": {},
     "output_type": "display_data"
    }
   ],
   "source": [
    "clean = {d: v for d, v in data.items() if v}\n",
    "series = pd.Series(clean.values(),\n",
    "                   index=pd.to_datetime(list(clean.keys())),\n",
    "                   name='Hong Kong Interbank Balalnce').sort_index()\n",
    "fig, ax = plt.subplots(1, 1, figsize=(13, 9))\n",
    "series.plot(ax=ax, ylim=(0, None), title=series.name,\n",
    "            legend=series.name, ylabel='million HKD', lw=5)\n"
   ]
  },
  {
   "attachments": {},
   "cell_type": "markdown",
   "metadata": {},
   "source": [
    "#### Recent"
   ]
  },
  {
   "cell_type": "code",
   "execution_count": 8,
   "metadata": {},
   "outputs": [
    {
     "data": {
      "text/plain": [
       "2023-07-03    45192.0\n",
       "2023-07-04    44895.0\n",
       "2023-07-05    48233.0\n",
       "2023-07-06    45131.0\n",
       "2023-07-07    45131.0\n",
       "2023-07-10    45131.0\n",
       "2023-07-11    45131.0\n",
       "2023-07-12    44955.0\n",
       "2023-07-13    44950.0\n",
       "2023-07-14    44950.0\n",
       "2023-07-17    48835.0\n",
       "2023-07-18    44950.0\n",
       "2023-07-19    44941.0\n",
       "2023-07-20    44961.0\n",
       "2023-07-21    44941.0\n",
       "2023-07-24    44987.0\n",
       "2023-07-25    44941.0\n",
       "2023-07-26    44692.0\n",
       "2023-07-27    45520.0\n",
       "2023-07-28    44692.0\n",
       "Name: Hong Kong Interbank Balalnce, dtype: float64"
      ]
     },
     "execution_count": 8,
     "metadata": {},
     "output_type": "execute_result"
    }
   ],
   "source": [
    "series.sort_index().iloc[-20:]"
   ]
  }
 ],
 "metadata": {
  "kernelspec": {
   "display_name": "ml-py3.11.0",
   "language": "python",
   "name": "python3"
  },
  "language_info": {
   "codemirror_mode": {
    "name": "ipython",
    "version": 3
   },
   "file_extension": ".py",
   "mimetype": "text/x-python",
   "name": "python",
   "nbconvert_exporter": "python",
   "pygments_lexer": "ipython3",
   "version": "3.11.0"
  },
  "orig_nbformat": 4,
  "vscode": {
   "interpreter": {
    "hash": "55c6ec4f84c8c16080422652ab1b36e874a3bb69fd28fda29d1d15868a8caf55"
   }
  }
 },
 "nbformat": 4,
 "nbformat_minor": 2
}
