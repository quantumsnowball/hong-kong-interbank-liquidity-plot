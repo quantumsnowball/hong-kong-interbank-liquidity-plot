{
 "cells": [
  {
   "cell_type": "markdown",
   "metadata": {},
   "source": [
    "# Hong Kong Interbank Balance Plot"
   ]
  },
  {
   "cell_type": "markdown",
   "metadata": {},
   "source": [
    "#### Imports"
   ]
  },
  {
   "cell_type": "code",
   "execution_count": 1,
   "metadata": {},
   "outputs": [],
   "source": [
    "import pandas as pd\n",
    "import requests\n",
    "from requests.adapters import Retry, HTTPAdapter\n",
    "from bs4 import BeautifulSoup\n",
    "import json\n"
   ]
  },
  {
   "cell_type": "markdown",
   "metadata": {},
   "source": [
    "#### Globals"
   ]
  },
  {
   "cell_type": "code",
   "execution_count": 2,
   "metadata": {},
   "outputs": [],
   "source": [
    "START = '2022-01-01'\n",
    "END = '2022-08-03'\n"
   ]
  },
  {
   "cell_type": "markdown",
   "metadata": {},
   "source": [
    "#### Utility Functions"
   ]
  },
  {
   "cell_type": "code",
   "execution_count": 3,
   "metadata": {},
   "outputs": [],
   "source": [
    "def url(Y, M, D):\n",
    "    return (\n",
    "        'https://www.hkma.gov.hk/eng/'\n",
    "        'data-publications-and-research/data-and-statistics/'\n",
    "        f'daily-monetary-statistics/{Y}/{M}/ms-{Y}{M}{D}/')\n"
   ]
  },
  {
   "cell_type": "code",
   "execution_count": 4,
   "metadata": {},
   "outputs": [],
   "source": [
    "def interbank_balance(date):\n",
    "    try:\n",
    "        Y, M, D = date.split('-')\n",
    "        sess = requests.Session()\n",
    "        sess.mount('https://', HTTPAdapter(max_retries=Retry(total=50, backoff_factor=0.1)))\n",
    "        resp = sess.get(url(Y, M, D))\n",
    "        print(f'fetching {date}')\n",
    "        soup = BeautifulSoup(resp.content)\n",
    "        table = soup.select_one(\n",
    "            '#interbank-liquidity + div + div div.collapsibles-accordion-content div.template-table table')\n",
    "        trs = table.select('tr')\n",
    "        td = trs[1].select('td')[1]\n",
    "        clean_text = td.text.replace('mn', '').replace(\n",
    "            '百萬', '').replace(',', '').strip()\n",
    "        return float(clean_text)\n",
    "    except (AttributeError, ):\n",
    "        return None\n"
   ]
  },
  {
   "cell_type": "markdown",
   "metadata": {},
   "source": [
    "#### Tests"
   ]
  },
  {
   "cell_type": "code",
   "execution_count": 5,
   "metadata": {},
   "outputs": [
    {
     "name": "stdout",
     "output_type": "stream",
     "text": [
      "fetching 2022-06-01\n",
      "2022-06-01 319990.0\n",
      "fetching 2022-07-01\n",
      "2022-07-01 None\n",
      "fetching 2022-08-01\n",
      "2022-08-01 165158.0\n"
     ]
    }
   ],
   "source": [
    "for date in ['2022-06-01', '2022-07-01', '2022-08-01']:\n",
    "    ib = interbank_balance(date)\n",
    "    print(date, ib)\n"
   ]
  },
  {
   "cell_type": "markdown",
   "metadata": {},
   "source": [
    "#### Fetch\n",
    "\n",
    "If connection is banned, wait for a while and run this cell again. Program will only re-download failed fetch."
   ]
  },
  {
   "cell_type": "code",
   "execution_count": 6,
   "metadata": {},
   "outputs": [],
   "source": [
    "dates = [str(d.date())\n",
    "         for d in pd.date_range(START, END)]\n",
    "for d in dates:\n",
    "    with open('cache.json', 'r') as fp:\n",
    "        data = json.load(fp)\n",
    "    try:\n",
    "        data[d]\n",
    "    except KeyError:\n",
    "        data[d] = interbank_balance(d)\n",
    "    with open('cache.json', 'w') as fp:\n",
    "        json.dump(data, fp, indent=2)\n"
   ]
  },
  {
   "cell_type": "markdown",
   "metadata": {},
   "source": [
    "#### Plot"
   ]
  },
  {
   "cell_type": "code",
   "execution_count": 10,
   "metadata": {},
   "outputs": [
    {
     "data": {
      "text/plain": [
       "<AxesSubplot:title={'center':'Hong Kong Interbank Balalnce'}, ylabel='million HKD'>"
      ]
     },
     "execution_count": 10,
     "metadata": {},
     "output_type": "execute_result"
    },
    {
     "data": {
      "image/png": "[encoded data removed]",
      "text/plain": [
       "<Figure size 1008x720 with 1 Axes>"
      ]
     },
     "metadata": {
      "needs_background": "light"
     },
     "output_type": "display_data"
    }
   ],
   "source": [
    "clean = {d:v for d,v in data.items() if v}\n",
    "series = pd.Series(clean.values(),\n",
    "               index=pd.to_datetime(list(clean.keys())),\n",
    "               name='Hong Kong Interbank Balalnce')\n",
    "series.plot(figsize=(13, 9), ylim=(0,None), title=series.name, legend=series.name, ylabel='million HKD', lw=5)\n"
   ]
  }
 ],
 "metadata": {
  "kernelspec": {
   "display_name": "Python 3.10.4 64-bit ('3.10.4')",
   "language": "python",
   "name": "python3"
  },
  "language_info": {
   "codemirror_mode": {
    "name": "ipython",
    "version": 3
   },
   "file_extension": ".py",
   "mimetype": "text/x-python",
   "name": "python",
   "nbconvert_exporter": "python",
   "pygments_lexer": "ipython3",
   "version": "3.10.4"
  },
  "orig_nbformat": 4,
  "vscode": {
   "interpreter": {
    "hash": "33a39ccb963c648ba117e1b38059a9a9d4b50a783c099487bdb9e7f6f2c9977a"
   }
  }
 },
 "nbformat": 4,
 "nbformat_minor": 2
}
