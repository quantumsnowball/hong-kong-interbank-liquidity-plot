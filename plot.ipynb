{
 "cells": [
  {
   "attachments": {},
   "cell_type": "markdown",
   "metadata": {},
   "source": [
    "# Hong Kong Interbank Balance Plot"
   ]
  },
  {
   "attachments": {},
   "cell_type": "markdown",
   "metadata": {},
   "source": [
    "#### Imports"
   ]
  },
  {
   "cell_type": "code",
   "execution_count": 1,
   "metadata": {},
   "outputs": [],
   "source": [
    "import pandas as pd\n",
    "import requests\n",
    "from requests.adapters import Retry, HTTPAdapter\n",
    "import matplotlib.pyplot as plt\n",
    "from bs4 import BeautifulSoup\n",
    "import json\n",
    "import sqlite3\n"
   ]
  },
  {
   "attachments": {},
   "cell_type": "markdown",
   "metadata": {},
   "source": [
    "#### Globals"
   ]
  },
  {
   "cell_type": "code",
   "execution_count": 2,
   "metadata": {},
   "outputs": [],
   "source": [
    "START = '2018-01-01'\n",
    "END = str(pd.Timestamp.today().date())\n"
   ]
  },
  {
   "attachments": {},
   "cell_type": "markdown",
   "metadata": {},
   "source": [
    "#### Utility Functions"
   ]
  },
  {
   "cell_type": "code",
   "execution_count": 3,
   "metadata": {},
   "outputs": [],
   "source": [
    "def url(Y, M, D):\n",
    "    return (\n",
    "        'https://www.hkma.gov.hk/eng/'\n",
    "        'data-publications-and-research/data-and-statistics/'\n",
    "        f'daily-monetary-statistics/{Y}/{M}/ms-{Y}{M}{D}/')\n"
   ]
  },
  {
   "cell_type": "code",
   "execution_count": 4,
   "metadata": {},
   "outputs": [],
   "source": [
    "def interbank_balance(date):\n",
    "    try:\n",
    "        Y, M, D = date.split('-')\n",
    "        sess = requests.Session()\n",
    "        sess.mount('https://', HTTPAdapter(max_retries=Retry(total=50, backoff_factor=0.1)))\n",
    "        resp = sess.get(url(Y, M, D))\n",
    "        print(f'fetching {date}')\n",
    "        soup = BeautifulSoup(resp.content)\n",
    "        table = soup.select_one(\n",
    "            '#interbank-liquidity + div + div div.collapsibles-accordion-content div.template-table table')\n",
    "        trs = table.select('tr')\n",
    "        td = trs[1].select('td')[1]\n",
    "        clean_text = td.text.replace('mn', '').replace(\n",
    "            '百萬', '').replace(',', '').strip()\n",
    "        return float(clean_text)\n",
    "    except (AttributeError, ):\n",
    "        return None\n"
   ]
  },
  {
   "attachments": {},
   "cell_type": "markdown",
   "metadata": {},
   "source": [
    "#### Tests"
   ]
  },
  {
   "cell_type": "code",
   "execution_count": 5,
   "metadata": {},
   "outputs": [
    {
     "name": "stdout",
     "output_type": "stream",
     "text": [
      "fetching 2022-06-01\n",
      "2022-06-01 319990.0\n",
      "fetching 2022-08-01\n",
      "2022-08-01 165158.0\n"
     ]
    }
   ],
   "source": [
    "for date in ['2022-06-01', '2022-08-01']:\n",
    "    ib = interbank_balance(date)\n",
    "    print(date, ib)\n"
   ]
  },
  {
   "attachments": {},
   "cell_type": "markdown",
   "metadata": {},
   "source": [
    "#### Fetch\n",
    "\n",
    "If connection is banned, wait for a while and run this cell again. Program will only re-download failed fetch."
   ]
  },
  {
   "cell_type": "code",
   "execution_count": 6,
   "metadata": {},
   "outputs": [
    {
     "name": "stdout",
     "output_type": "stream",
     "text": [
      "fetching 2024-03-12\n",
      "fetching 2024-03-13\n",
      "fetching 2024-03-14\n",
      "fetching 2024-03-15\n",
      "fetching 2024-03-16\n",
      "fetching 2024-03-17\n",
      "fetching 2024-03-18\n",
      "fetching 2024-03-19\n",
      "fetching 2024-03-20\n",
      "fetching 2024-03-21\n",
      "fetching 2024-03-22\n",
      "fetching 2024-03-23\n",
      "fetching 2024-03-24\n",
      "fetching 2024-03-25\n",
      "fetching 2024-03-26\n",
      "fetching 2024-03-27\n",
      "fetching 2024-03-28\n",
      "fetching 2024-03-29\n",
      "fetching 2024-03-30\n",
      "fetching 2024-03-31\n",
      "fetching 2024-04-01\n",
      "fetching 2024-04-02\n",
      "fetching 2024-04-03\n",
      "fetching 2024-04-04\n",
      "fetching 2024-04-05\n",
      "fetching 2024-04-06\n",
      "fetching 2024-04-07\n",
      "fetching 2024-04-08\n",
      "fetching 2024-04-09\n",
      "fetching 2024-04-10\n",
      "fetching 2024-04-11\n",
      "fetching 2024-04-12\n",
      "fetching 2024-04-13\n",
      "fetching 2024-04-14\n",
      "fetching 2024-04-15\n",
      "fetching 2024-04-16\n",
      "fetching 2024-04-17\n",
      "fetching 2024-04-18\n",
      "fetching 2024-04-19\n",
      "fetching 2024-04-20\n",
      "fetching 2024-04-21\n",
      "fetching 2024-04-22\n",
      "fetching 2024-04-23\n",
      "fetching 2024-04-24\n",
      "fetching 2024-04-25\n",
      "fetching 2024-04-26\n",
      "fetching 2024-04-27\n",
      "fetching 2024-04-28\n",
      "fetching 2024-04-29\n",
      "fetching 2024-04-30\n",
      "fetching 2024-05-01\n",
      "fetching 2024-05-02\n",
      "fetching 2024-05-03\n",
      "fetching 2024-05-04\n",
      "fetching 2024-05-05\n",
      "fetching 2024-05-06\n",
      "fetching 2024-05-07\n",
      "fetching 2024-05-08\n",
      "fetching 2024-05-09\n",
      "fetching 2024-05-10\n",
      "fetching 2024-05-11\n",
      "fetching 2024-05-12\n",
      "fetching 2024-05-13\n",
      "fetching 2024-05-14\n",
      "fetching 2024-05-15\n",
      "fetching 2024-05-16\n",
      "fetching 2024-05-17\n",
      "fetching 2024-05-18\n",
      "fetching 2024-05-19\n",
      "fetching 2024-05-20\n",
      "fetching 2024-05-21\n",
      "fetching 2024-05-22\n",
      "fetching 2024-05-23\n",
      "fetching 2024-05-24\n",
      "fetching 2024-05-25\n",
      "fetching 2024-05-26\n",
      "fetching 2024-05-27\n",
      "fetching 2024-05-28\n",
      "fetching 2024-05-29\n",
      "fetching 2024-05-30\n",
      "fetching 2024-05-31\n",
      "fetching 2024-06-01\n",
      "fetching 2024-06-02\n",
      "fetching 2024-06-03\n",
      "fetching 2024-06-04\n",
      "fetching 2024-06-05\n",
      "fetching 2024-06-06\n",
      "fetching 2024-06-07\n",
      "fetching 2024-06-08\n",
      "fetching 2024-06-09\n",
      "fetching 2024-06-10\n",
      "fetching 2024-06-11\n",
      "fetching 2024-06-12\n",
      "fetching 2024-06-13\n",
      "fetching 2024-06-14\n",
      "fetching 2024-06-15\n",
      "fetching 2024-06-16\n",
      "fetching 2024-06-17\n",
      "fetching 2024-06-18\n",
      "fetching 2024-06-19\n",
      "fetching 2024-06-20\n",
      "fetching 2024-06-21\n",
      "fetching 2024-06-22\n",
      "fetching 2024-06-23\n",
      "fetching 2024-06-24\n",
      "fetching 2024-06-25\n",
      "fetching 2024-06-26\n",
      "fetching 2024-06-27\n",
      "fetching 2024-06-28\n",
      "fetching 2024-06-29\n",
      "fetching 2024-06-30\n",
      "fetching 2024-07-01\n",
      "fetching 2024-07-02\n",
      "fetching 2024-07-03\n",
      "fetching 2024-07-04\n",
      "fetching 2024-07-05\n",
      "fetching 2024-07-06\n",
      "fetching 2024-07-07\n",
      "fetching 2024-07-08\n",
      "fetching 2024-07-09\n",
      "fetching 2024-07-10\n",
      "fetching 2024-07-11\n",
      "fetching 2024-07-12\n",
      "fetching 2024-07-13\n",
      "fetching 2024-07-14\n",
      "fetching 2024-07-15\n",
      "fetching 2024-07-16\n"
     ]
    }
   ],
   "source": [
    "dates = [str(d.date())\n",
    "         for d in pd.date_range(START, END)]\n",
    "with sqlite3.connect('data.sqlite') as conn:\n",
    "    cursor = conn.cursor()\n",
    "    for d in dates:\n",
    "        cursor.execute(f\"SELECT * from interbank where Date='{d}'\")\n",
    "        rows = cursor.fetchall()\n",
    "        if len(rows) == 0:\n",
    "            val = interbank_balance(d)\n",
    "            val = val if val is not None else 'NULL'\n",
    "            cursor.execute(f'INSERT OR REPLACE INTO interbank (Date, Balance) VALUES (\"{d}\", {val})')\n",
    "    conn.commit()"
   ]
  },
  {
   "attachments": {},
   "cell_type": "markdown",
   "metadata": {},
   "source": [
    "#### Plot"
   ]
  },
  {
   "cell_type": "code",
   "execution_count": 7,
   "metadata": {},
   "outputs": [
    {
     "data": {
      "text/plain": [
       "<Axes: title={'center': 'Hong Kong Interbank Balalnce'}, ylabel='million HKD'>"
      ]
     },
     "execution_count": 7,
     "metadata": {},
     "output_type": "execute_result"
    },
    {
     "data": {
      "image/png": "[encoded data removed]",
      "text/plain": [
       "<Figure size 1300x900 with 1 Axes>"
      ]
     },
     "metadata": {},
     "output_type": "display_data"
    }
   ],
   "source": [
    "with sqlite3.connect('data.sqlite') as conn:\n",
    "    cursor = conn.cursor()\n",
    "    cursor.execute('SELECT * from interbank')\n",
    "    data = cursor.fetchall()\n",
    "\n",
    "clean = {d: v for d, v in dict(data).items() if v}\n",
    "series = pd.Series(clean.values(),\n",
    "                   index=pd.to_datetime(list(clean.keys())),\n",
    "                   name='Hong Kong Interbank Balalnce').sort_index()\n",
    "fig, ax = plt.subplots(1, 1, figsize=(13, 9))\n",
    "series.plot(ax=ax, ylim=(0, None), title=series.name,\n",
    "            legend=series.name, ylabel='million HKD', lw=5)\n"
   ]
  },
  {
   "attachments": {},
   "cell_type": "markdown",
   "metadata": {},
   "source": [
    "#### Recent"
   ]
  },
  {
   "cell_type": "code",
   "execution_count": 8,
   "metadata": {},
   "outputs": [
    {
     "data": {
      "text/plain": [
       "2024-06-17    44817\n",
       "2024-06-18    44817\n",
       "2024-06-19    46737\n",
       "2024-06-20    44782\n",
       "2024-06-21    44782\n",
       "2024-06-24    44787\n",
       "2024-06-25    44782\n",
       "2024-06-26    44960\n",
       "2024-06-27    44960\n",
       "2024-06-28    44960\n",
       "2024-07-02    44960\n",
       "2024-07-03    46202\n",
       "2024-07-04    45203\n",
       "2024-07-05    45203\n",
       "2024-07-08    45203\n",
       "2024-07-09    45203\n",
       "2024-07-10    44984\n",
       "2024-07-11    44984\n",
       "2024-07-12    44984\n",
       "2024-07-15    45004\n",
       "Name: Hong Kong Interbank Balalnce, dtype: int64"
      ]
     },
     "execution_count": 8,
     "metadata": {},
     "output_type": "execute_result"
    }
   ],
   "source": [
    "series.sort_index().iloc[-20:]"
   ]
  }
 ],
 "metadata": {
  "kernelspec": {
   "display_name": "ml-py3.11.0",
   "language": "python",
   "name": "python3"
  },
  "language_info": {
   "codemirror_mode": {
    "name": "ipython",
    "version": 3
   },
   "file_extension": ".py",
   "mimetype": "text/x-python",
   "name": "python",
   "nbconvert_exporter": "python",
   "pygments_lexer": "ipython3",
   "version": "3.12.2"
  },
  "orig_nbformat": 4,
  "vscode": {
   "interpreter": {
    "hash": "55c6ec4f84c8c16080422652ab1b36e874a3bb69fd28fda29d1d15868a8caf55"
   }
  }
 },
 "nbformat": 4,
 "nbformat_minor": 2
}
