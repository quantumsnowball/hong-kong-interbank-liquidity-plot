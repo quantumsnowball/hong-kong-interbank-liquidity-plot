{
 "cells": [
  {
   "attachments": {},
   "cell_type": "markdown",
   "metadata": {},
   "source": [
    "# Hong Kong Interbank Balance Plot"
   ]
  },
  {
   "attachments": {},
   "cell_type": "markdown",
   "metadata": {},
   "source": [
    "#### Imports"
   ]
  },
  {
   "cell_type": "code",
   "execution_count": 1,
   "metadata": {},
   "outputs": [],
   "source": [
    "import pandas as pd\n",
    "import requests\n",
    "from requests.adapters import Retry, HTTPAdapter\n",
    "import matplotlib.pyplot as plt\n",
    "from bs4 import BeautifulSoup\n",
    "import json\n",
    "import sqlite3\n"
   ]
  },
  {
   "attachments": {},
   "cell_type": "markdown",
   "metadata": {},
   "source": [
    "#### Globals"
   ]
  },
  {
   "cell_type": "code",
   "execution_count": 2,
   "metadata": {},
   "outputs": [],
   "source": [
    "START = '2018-01-01'\n",
    "END = str(pd.Timestamp.today().date())\n"
   ]
  },
  {
   "attachments": {},
   "cell_type": "markdown",
   "metadata": {},
   "source": [
    "#### Utility Functions"
   ]
  },
  {
   "cell_type": "code",
   "execution_count": 3,
   "metadata": {},
   "outputs": [],
   "source": [
    "def url(Y, M, D):\n",
    "    return (\n",
    "        'https://www.hkma.gov.hk/eng/'\n",
    "        'data-publications-and-research/data-and-statistics/'\n",
    "        f'daily-monetary-statistics/{Y}/{M}/ms-{Y}{M}{D}/')\n"
   ]
  },
  {
   "cell_type": "code",
   "execution_count": 4,
   "metadata": {},
   "outputs": [],
   "source": [
    "def interbank_balance(date):\n",
    "    try:\n",
    "        Y, M, D = date.split('-')\n",
    "        sess = requests.Session()\n",
    "        sess.mount('https://', HTTPAdapter(max_retries=Retry(total=50, backoff_factor=0.1)))\n",
    "        resp = sess.get(url(Y, M, D))\n",
    "        print(f'fetching {date}')\n",
    "        soup = BeautifulSoup(resp.content)\n",
    "        table = soup.select_one(\n",
    "            '#interbank-liquidity + div + div div.collapsibles-accordion-content div.template-table table')\n",
    "        trs = table.select('tr')\n",
    "        td = trs[1].select('td')[1]\n",
    "        clean_text = td.text.replace('mn', '').replace(\n",
    "            '百萬', '').replace(',', '').strip()\n",
    "        return float(clean_text)\n",
    "    except (AttributeError, ):\n",
    "        return None\n"
   ]
  },
  {
   "attachments": {},
   "cell_type": "markdown",
   "metadata": {},
   "source": [
    "#### Tests"
   ]
  },
  {
   "cell_type": "code",
   "execution_count": 5,
   "metadata": {},
   "outputs": [
    {
     "name": "stdout",
     "output_type": "stream",
     "text": [
      "fetching 2022-06-01\n",
      "2022-06-01 319990.0\n",
      "fetching 2022-08-01\n",
      "2022-08-01 165158.0\n"
     ]
    }
   ],
   "source": [
    "for date in ['2022-06-01', '2022-08-01']:\n",
    "    ib = interbank_balance(date)\n",
    "    print(date, ib)\n"
   ]
  },
  {
   "attachments": {},
   "cell_type": "markdown",
   "metadata": {},
   "source": [
    "#### Fetch\n",
    "\n",
    "If connection is banned, wait for a while and run this cell again. Program will only re-download failed fetch."
   ]
  },
  {
   "cell_type": "code",
   "execution_count": 6,
   "metadata": {},
   "outputs": [
    {
     "name": "stdout",
     "output_type": "stream",
     "text": [
      "fetching 2023-07-30\n",
      "fetching 2023-07-31\n",
      "fetching 2023-08-01\n",
      "fetching 2023-08-02\n",
      "fetching 2023-08-03\n",
      "fetching 2023-08-04\n",
      "fetching 2023-08-05\n",
      "fetching 2023-08-06\n",
      "fetching 2023-08-07\n",
      "fetching 2023-08-08\n",
      "fetching 2023-08-09\n",
      "fetching 2023-08-10\n",
      "fetching 2023-08-11\n",
      "fetching 2023-08-12\n",
      "fetching 2023-08-13\n",
      "fetching 2023-08-14\n",
      "fetching 2023-08-15\n",
      "fetching 2023-08-16\n",
      "fetching 2023-08-17\n",
      "fetching 2023-08-18\n",
      "fetching 2023-08-19\n",
      "fetching 2023-08-20\n",
      "fetching 2023-08-21\n",
      "fetching 2023-08-22\n",
      "fetching 2023-08-23\n",
      "fetching 2023-08-24\n",
      "fetching 2023-08-25\n",
      "fetching 2023-08-26\n",
      "fetching 2023-08-27\n",
      "fetching 2023-08-28\n",
      "fetching 2023-08-29\n",
      "fetching 2023-08-30\n",
      "fetching 2023-08-31\n",
      "fetching 2023-09-01\n",
      "fetching 2023-09-02\n",
      "fetching 2023-09-03\n",
      "fetching 2023-09-04\n",
      "fetching 2023-09-05\n",
      "fetching 2023-09-06\n",
      "fetching 2023-09-07\n",
      "fetching 2023-09-08\n",
      "fetching 2023-09-09\n",
      "fetching 2023-09-10\n",
      "fetching 2023-09-11\n",
      "fetching 2023-09-12\n",
      "fetching 2023-09-13\n",
      "fetching 2023-09-14\n",
      "fetching 2023-09-15\n",
      "fetching 2023-09-16\n",
      "fetching 2023-09-17\n",
      "fetching 2023-09-18\n",
      "fetching 2023-09-19\n",
      "fetching 2023-09-20\n",
      "fetching 2023-09-21\n",
      "fetching 2023-09-22\n",
      "fetching 2023-09-23\n",
      "fetching 2023-09-24\n",
      "fetching 2023-09-25\n",
      "fetching 2023-09-26\n",
      "fetching 2023-09-27\n",
      "fetching 2023-09-28\n",
      "fetching 2023-09-29\n",
      "fetching 2023-09-30\n",
      "fetching 2023-10-01\n",
      "fetching 2023-10-02\n",
      "fetching 2023-10-03\n",
      "fetching 2023-10-04\n",
      "fetching 2023-10-05\n",
      "fetching 2023-10-06\n",
      "fetching 2023-10-07\n",
      "fetching 2023-10-08\n",
      "fetching 2023-10-09\n",
      "fetching 2023-10-10\n",
      "fetching 2023-10-11\n",
      "fetching 2023-10-12\n",
      "fetching 2023-10-13\n",
      "fetching 2023-10-14\n",
      "fetching 2023-10-15\n",
      "fetching 2023-10-16\n",
      "fetching 2023-10-17\n",
      "fetching 2023-10-18\n",
      "fetching 2023-10-19\n",
      "fetching 2023-10-20\n",
      "fetching 2023-10-21\n",
      "fetching 2023-10-22\n",
      "fetching 2023-10-23\n",
      "fetching 2023-10-24\n",
      "fetching 2023-10-25\n",
      "fetching 2023-10-26\n",
      "fetching 2023-10-27\n",
      "fetching 2023-10-28\n",
      "fetching 2023-10-29\n",
      "fetching 2023-10-30\n",
      "fetching 2023-10-31\n",
      "fetching 2023-11-01\n",
      "fetching 2023-11-02\n",
      "fetching 2023-11-03\n",
      "fetching 2023-11-04\n",
      "fetching 2023-11-05\n",
      "fetching 2023-11-06\n",
      "fetching 2023-11-07\n",
      "fetching 2023-11-08\n",
      "fetching 2023-11-09\n",
      "fetching 2023-11-10\n",
      "fetching 2023-11-11\n",
      "fetching 2023-11-12\n"
     ]
    }
   ],
   "source": [
    "dates = [str(d.date())\n",
    "         for d in pd.date_range(START, END)]\n",
    "with sqlite3.connect('data.sqlite') as conn:\n",
    "    cursor = conn.cursor()\n",
    "    for d in dates:\n",
    "        cursor.execute(f\"SELECT * from interbank where Date='{d}'\")\n",
    "        rows = cursor.fetchall()\n",
    "        if len(rows) == 0:\n",
    "            val = interbank_balance(d)\n",
    "            val = val if val is not None else 'NULL'\n",
    "            cursor.execute(f'INSERT OR REPLACE INTO interbank (Date, Balance) VALUES (\"{d}\", {val})')\n",
    "    conn.commit()"
   ]
  },
  {
   "attachments": {},
   "cell_type": "markdown",
   "metadata": {},
   "source": [
    "#### Plot"
   ]
  },
  {
   "cell_type": "code",
   "execution_count": 7,
   "metadata": {},
   "outputs": [
    {
     "data": {
      "text/plain": [
       "<Axes: title={'center': 'Hong Kong Interbank Balalnce'}, ylabel='million HKD'>"
      ]
     },
     "execution_count": 7,
     "metadata": {},
     "output_type": "execute_result"
    },
    {
     "data": {
      "image/png": "[encoded data removed]",
      "text/plain": [
       "<Figure size 1300x900 with 1 Axes>"
      ]
     },
     "metadata": {},
     "output_type": "display_data"
    }
   ],
   "source": [
    "with sqlite3.connect('data.sqlite') as conn:\n",
    "    cursor = conn.cursor()\n",
    "    cursor.execute('SELECT * from interbank')\n",
    "    data = cursor.fetchall()\n",
    "\n",
    "clean = {d: v for d, v in dict(data).items() if v}\n",
    "series = pd.Series(clean.values(),\n",
    "                   index=pd.to_datetime(list(clean.keys())),\n",
    "                   name='Hong Kong Interbank Balalnce').sort_index()\n",
    "fig, ax = plt.subplots(1, 1, figsize=(13, 9))\n",
    "series.plot(ax=ax, ylim=(0, None), title=series.name,\n",
    "            legend=series.name, ylabel='million HKD', lw=5)\n"
   ]
  },
  {
   "attachments": {},
   "cell_type": "markdown",
   "metadata": {},
   "source": [
    "#### Recent"
   ]
  },
  {
   "cell_type": "code",
   "execution_count": 8,
   "metadata": {},
   "outputs": [
    {
     "data": {
      "text/plain": [
       "2023-10-13    45047\n",
       "2023-10-16    45047\n",
       "2023-10-17    45047\n",
       "2023-10-18    45038\n",
       "2023-10-19    45038\n",
       "2023-10-20    45038\n",
       "2023-10-24    45265\n",
       "2023-10-25    45014\n",
       "2023-10-26    45014\n",
       "2023-10-27    45014\n",
       "2023-10-30    45903\n",
       "2023-10-31    45014\n",
       "2023-11-01    44893\n",
       "2023-11-02    44893\n",
       "2023-11-03    44893\n",
       "2023-11-06    44893\n",
       "2023-11-07    44893\n",
       "2023-11-08    44942\n",
       "2023-11-09    44942\n",
       "2023-11-10    44942\n",
       "Name: Hong Kong Interbank Balalnce, dtype: int64"
      ]
     },
     "execution_count": 8,
     "metadata": {},
     "output_type": "execute_result"
    }
   ],
   "source": [
    "series.sort_index().iloc[-20:]"
   ]
  }
 ],
 "metadata": {
  "kernelspec": {
   "display_name": "ml-py3.11.0",
   "language": "python",
   "name": "python3"
  },
  "language_info": {
   "codemirror_mode": {
    "name": "ipython",
    "version": 3
   },
   "file_extension": ".py",
   "mimetype": "text/x-python",
   "name": "python",
   "nbconvert_exporter": "python",
   "pygments_lexer": "ipython3",
   "version": "3.11.0"
  },
  "orig_nbformat": 4,
  "vscode": {
   "interpreter": {
    "hash": "55c6ec4f84c8c16080422652ab1b36e874a3bb69fd28fda29d1d15868a8caf55"
   }
  }
 },
 "nbformat": 4,
 "nbformat_minor": 2
}
