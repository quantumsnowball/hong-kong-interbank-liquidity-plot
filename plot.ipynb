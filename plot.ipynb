{
 "cells": [
  {
   "cell_type": "code",
   "execution_count": 12,
   "metadata": {},
   "outputs": [],
   "source": [
    "import pandas as pd\n",
    "import requests\n",
    "from bs4 import BeautifulSoup"
   ]
  },
  {
   "cell_type": "code",
   "execution_count": 51,
   "metadata": {},
   "outputs": [],
   "source": [
    "url = lambda Y,M,D : ('https://www.hkma.gov.hk/eng/'\n",
    "       'data-publications-and-research/data-and-statistics/'\n",
    "       f'daily-monetary-statistics/{Y}/{M}/ms-{Y}{M}{D}/')"
   ]
  },
  {
   "cell_type": "code",
   "execution_count": 52,
   "metadata": {},
   "outputs": [],
   "source": [
    "def interbank_balance(date):\n",
    "    try:\n",
    "        resp = requests.get(url(date[:4], date[4:6], date[6:]))\n",
    "        soup = BeautifulSoup(resp.content)\n",
    "        table = soup.select_one(\n",
    "            '#interbank-liquidity + div + div div.collapsibles-accordion-content div.template-table table')\n",
    "        trs = table.select('tr')\n",
    "        td = trs[1].select('td')[1]\n",
    "        return td.text.replace('mn','').replace('百萬','').strip()\n",
    "    except:\n",
    "        return None"
   ]
  },
  {
   "cell_type": "code",
   "execution_count": 54,
   "metadata": {},
   "outputs": [
    {
     "name": "stdout",
     "output_type": "stream",
     "text": [
      "20220601 319,990\n",
      "20220704 233,493\n",
      "20220801 165,158\n"
     ]
    }
   ],
   "source": [
    "for date in ['20220601', '20220704', '20220801']:\n",
    "    ib = interbank_balance(date)\n",
    "    print(date, ib)\n"
   ]
  }
 ],
 "metadata": {
  "kernelspec": {
   "display_name": "Python 3.10.4 64-bit ('3.10.4')",
   "language": "python",
   "name": "python3"
  },
  "language_info": {
   "codemirror_mode": {
    "name": "ipython",
    "version": 3
   },
   "file_extension": ".py",
   "mimetype": "text/x-python",
   "name": "python",
   "nbconvert_exporter": "python",
   "pygments_lexer": "ipython3",
   "version": "3.10.4"
  },
  "orig_nbformat": 4,
  "vscode": {
   "interpreter": {
    "hash": "33a39ccb963c648ba117e1b38059a9a9d4b50a783c099487bdb9e7f6f2c9977a"
   }
  }
 },
 "nbformat": 4,
 "nbformat_minor": 2
}
